{
 "cells": [
  {
   "cell_type": "code",
   "execution_count": 5,
   "metadata": {},
   "outputs": [],
   "source": [
    "from functools import lru_cache\n",
    "import whisper\n",
    "\n",
    "@lru_cache\n",
    "def get_whisper_model():\n",
    "  model = whisper.load_model(\"base\")\n",
    "  return model\n",
    "\n",
    "\n",
    "def transcribe_audio(audio):\n",
    "  model = get_whisper_model()\n",
    "  # pad/trim it to fit 30 seconds\n",
    "  audio = whisper.pad_or_trim(audio)\n",
    "\n",
    "  # make log-Mel spectrogram and move to the same device as the model\n",
    "  mel = whisper.log_mel_spectrogram(audio).to(model.device)\n",
    "\n",
    "  # detect the spoken language\n",
    "  _, probs = model.detect_language(mel)\n",
    "  print(f\"Detected language: {max(probs, key=probs.get)}\")\n",
    "\n",
    "  # decode the audio\n",
    "  options = whisper.DecodingOptions()\n",
    "  result = whisper.decode(model, mel, options)\n",
    "\n",
    "\n",
    "  return result.text\n",
    "\n"
   ]
  },
  {
   "cell_type": "code",
   "execution_count": 6,
   "metadata": {},
   "outputs": [
    {
     "name": "stdout",
     "output_type": "stream",
     "text": [
      "Detected language: en\n",
      "Hello, this is Manoj Pajaj and I'm testing this book.\n"
     ]
    }
   ],
   "source": [
    "audio = whisper.load_audio(\"audio.m4a\")\n",
    "# print the recognized text\n",
    "print(transcribe_audio(audio))"
   ]
  }
 ],
 "metadata": {
  "kernelspec": {
   "display_name": ".venv",
   "language": "python",
   "name": "python3"
  },
  "language_info": {
   "codemirror_mode": {
    "name": "ipython",
    "version": 3
   },
   "file_extension": ".py",
   "mimetype": "text/x-python",
   "name": "python",
   "nbconvert_exporter": "python",
   "pygments_lexer": "ipython3",
   "version": "3.10.12"
  }
 },
 "nbformat": 4,
 "nbformat_minor": 2
}
